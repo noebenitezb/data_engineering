{
  "cells": [
    {
      "cell_type": "markdown",
      "metadata": {
        "id": "view-in-github",
        "colab_type": "text"
      },
      "source": [
        "<a href=\"https://colab.research.google.com/github/noebenitezb/data_engineering/blob/main/RDD%20Spark.ipynb\" target=\"_parent\"><img src=\"https://colab.research.google.com/assets/colab-badge.svg\" alt=\"Open In Colab\"/></a>"
      ]
    },
    {
      "cell_type": "markdown",
      "source": [
        "**Formas diferentes de crear un RDD**"
      ],
      "metadata": {
        "id": "euO1f9OIqEmO"
      }
    },
    {
      "cell_type": "code",
      "source": [
        "!pip install pyspark\n",
        "!pip install findspark"
      ],
      "metadata": {
        "colab": {
          "base_uri": "https://localhost:8080/"
        },
        "id": "WhM0RnGVqMmA",
        "outputId": "b41c0a00-4697-4286-9ced-6f16d3256062"
      },
      "execution_count": 1,
      "outputs": [
        {
          "output_type": "stream",
          "name": "stdout",
          "text": [
            "Requirement already satisfied: pyspark in /usr/local/lib/python3.12/dist-packages (3.5.1)\n",
            "Requirement already satisfied: py4j==0.10.9.7 in /usr/local/lib/python3.12/dist-packages (from pyspark) (0.10.9.7)\n",
            "Collecting findspark\n",
            "  Downloading findspark-2.0.1-py2.py3-none-any.whl.metadata (352 bytes)\n",
            "Downloading findspark-2.0.1-py2.py3-none-any.whl (4.4 kB)\n",
            "Installing collected packages: findspark\n",
            "Successfully installed findspark-2.0.1\n"
          ]
        }
      ]
    },
    {
      "cell_type": "code",
      "source": [
        "import findspark\n",
        "\n",
        "findspark.init()\n",
        "\n",
        "from pyspark.sql import SparkSession\n",
        "\n",
        "spark = SparkSession.builder.master(\"local[*]\").getOrCreate()"
      ],
      "metadata": {
        "id": "FIyZrDH9qa_9"
      },
      "execution_count": 3,
      "outputs": []
    },
    {
      "cell_type": "code",
      "source": [
        "sc = spark.sparkContext #Punto de entrada para crear RDDs"
      ],
      "metadata": {
        "id": "H8iFIulUrJV8"
      },
      "execution_count": 5,
      "outputs": []
    },
    {
      "cell_type": "code",
      "source": [
        "#RDD Vacio con y sin particion\n",
        "empty_rdd = sc.emptyRDD\n",
        "empty_rdd\n",
        "\n",
        "empty_rdd3 = sc.parallelize([],3)\n",
        "empty_rdd3"
      ],
      "metadata": {
        "colab": {
          "base_uri": "https://localhost:8080/"
        },
        "id": "tK5crrEDrPu6",
        "outputId": "b2b40be0-ab51-4164-acff-bcf6db060778"
      },
      "execution_count": 6,
      "outputs": [
        {
          "output_type": "execute_result",
          "data": {
            "text/plain": [
              "ParallelCollectionRDD[0] at readRDDFromFile at PythonRDD.scala:289"
            ]
          },
          "metadata": {},
          "execution_count": 6
        }
      ]
    },
    {
      "cell_type": "code",
      "source": [
        "empty_rdd3.getNumPartitions()"
      ],
      "metadata": {
        "colab": {
          "base_uri": "https://localhost:8080/"
        },
        "id": "kas_D0l0rqIl",
        "outputId": "677b2a6b-0373-4d64-9e9b-ec55935c3c81"
      },
      "execution_count": 7,
      "outputs": [
        {
          "output_type": "execute_result",
          "data": {
            "text/plain": [
              "3"
            ]
          },
          "metadata": {},
          "execution_count": 7
        }
      ]
    },
    {
      "cell_type": "code",
      "source": [
        "rdd =sc.parallelize([1,2,3,4,5])\n",
        "rdd"
      ],
      "metadata": {
        "colab": {
          "base_uri": "https://localhost:8080/"
        },
        "id": "9wTQMLI-rxat",
        "outputId": "adf21de7-2d6b-4ace-d1e4-4e2a09a15d61"
      },
      "execution_count": 9,
      "outputs": [
        {
          "output_type": "execute_result",
          "data": {
            "text/plain": [
              "ParallelCollectionRDD[2] at readRDDFromFile at PythonRDD.scala:289"
            ]
          },
          "metadata": {},
          "execution_count": 9
        }
      ]
    },
    {
      "cell_type": "code",
      "source": [
        "rdd.collect()"
      ],
      "metadata": {
        "colab": {
          "base_uri": "https://localhost:8080/"
        },
        "id": "qrOFE5hZr4ef",
        "outputId": "11f0510a-0352-4dec-8631-cd7d43888117"
      },
      "execution_count": 11,
      "outputs": [
        {
          "output_type": "execute_result",
          "data": {
            "text/plain": [
              "[1, 2, 3, 4, 5]"
            ]
          },
          "metadata": {},
          "execution_count": 11
        }
      ]
    },
    {
      "cell_type": "code",
      "source": [
        "#Crear un RDD desde un archivo de texto. Text file crea un RDD donde cada línea del archivo de texto representa un registro en el RDD\n",
        "rdd_texto = sc.textFile(\"rdd_source.txt\")\n",
        "rdd_texto.collect()"
      ],
      "metadata": {
        "colab": {
          "base_uri": "https://localhost:8080/"
        },
        "id": "iztPgOiTsDuP",
        "outputId": "d35f5605-3b20-45d0-d5ba-5619047b68a3"
      },
      "execution_count": 16,
      "outputs": [
        {
          "output_type": "execute_result",
          "data": {
            "text/plain": [
              "['tres diferentes', 'renglones del archivo', 'son tres registros en el RDD']"
            ]
          },
          "metadata": {},
          "execution_count": 16
        }
      ]
    },
    {
      "cell_type": "code",
      "source": [
        "#Crear un RDD donde todo el archivo de texto es un solo registro. En la primera columna aparecera el nombre del archivo y en la segunda todo el contenido\n",
        "rdd_texto2 = sc.wholeTextFiles(\"rdd_source.txt\")\n",
        "rdd_texto2.collect()"
      ],
      "metadata": {
        "colab": {
          "base_uri": "https://localhost:8080/"
        },
        "id": "q-EYNAuds6e7",
        "outputId": "ea7b6500-b5b2-4a77-9ffe-c1125beba326"
      },
      "execution_count": 19,
      "outputs": [
        {
          "output_type": "execute_result",
          "data": {
            "text/plain": [
              "[('file:/content/rdd_source.txt',\n",
              "  'tres diferentes\\r\\nrenglones del archivo\\r\\nson tres registros en el RDD')]"
            ]
          },
          "metadata": {},
          "execution_count": 19
        }
      ]
    },
    {
      "cell_type": "code",
      "source": [
        "#Crear un RDD a partir de uno existente\n",
        "rdd_existente = rdd.map(lambda x: x*2)\n",
        "rdd_existente.collect()"
      ],
      "metadata": {
        "colab": {
          "base_uri": "https://localhost:8080/"
        },
        "id": "tiL6NBxDt--P",
        "outputId": "5c98cffe-d9b6-42ac-d473-563a13e7ddbc"
      },
      "execution_count": 23,
      "outputs": [
        {
          "output_type": "execute_result",
          "data": {
            "text/plain": [
              "[2, 4, 6, 8, 10]"
            ]
          },
          "metadata": {},
          "execution_count": 23
        }
      ]
    },
    {
      "cell_type": "code",
      "source": [
        "#Crear un RDD a partir de un dataframe\n",
        "df = spark.createDataFrame([(\"a\",1),(\"b\",2),(\"c\",3)],[\"letras\",\"numeros\"])\n",
        "df.show()"
      ],
      "metadata": {
        "colab": {
          "base_uri": "https://localhost:8080/"
        },
        "id": "WN4ttdp7wg--",
        "outputId": "2c8dcc0e-cf5d-4fa7-f4b1-317c48d4c246"
      },
      "execution_count": 25,
      "outputs": [
        {
          "output_type": "stream",
          "name": "stdout",
          "text": [
            "+------+-------+\n",
            "|letras|numeros|\n",
            "+------+-------+\n",
            "|     a|      1|\n",
            "|     b|      2|\n",
            "|     c|      3|\n",
            "+------+-------+\n",
            "\n"
          ]
        }
      ]
    },
    {
      "cell_type": "code",
      "source": [
        "#Utilizamos el dataframe y lo convertimos a RDD\n",
        "rdd_df  = df.rdd\n",
        "rdd_df.collect()"
      ],
      "metadata": {
        "colab": {
          "base_uri": "https://localhost:8080/"
        },
        "id": "O7rLJUhEwp7v",
        "outputId": "d775364e-b5f5-484a-e66e-35878c4875ef"
      },
      "execution_count": 27,
      "outputs": [
        {
          "output_type": "execute_result",
          "data": {
            "text/plain": [
              "[Row(letras='a', numeros=1),\n",
              " Row(letras='b', numeros=2),\n",
              " Row(letras='c', numeros=3)]"
            ]
          },
          "metadata": {},
          "execution_count": 27
        }
      ]
    }
  ],
  "metadata": {
    "colab": {
      "name": "Welcome To Colab",
      "provenance": [],
      "include_colab_link": true
    },
    "kernelspec": {
      "display_name": "Python 3",
      "name": "python3"
    }
  },
  "nbformat": 4,
  "nbformat_minor": 0
}